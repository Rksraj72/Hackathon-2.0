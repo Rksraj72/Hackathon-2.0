{
 "cells": [
  {
   "cell_type": "markdown",
   "id": "4fcf09cc",
   "metadata": {},
   "source": [
    "                                                                                                 -Presented BY Rajesh Kumar\n",
    "                                                                                                           Data Scientist"
   ]
  },
  {
   "cell_type": "markdown",
   "id": "02fe3854",
   "metadata": {},
   "source": [
    "# Hackathon 2.0"
   ]
  },
  {
   "cell_type": "markdown",
   "id": "aa2d3680",
   "metadata": {},
   "source": [
    "## Major Question 1"
   ]
  },
  {
   "cell_type": "markdown",
   "id": "8b07a00a",
   "metadata": {},
   "source": [
    "<b>1. Write a program to print the following pattern :</b>\n"
   ]
  },
  {
   "cell_type": "code",
   "execution_count": 1,
   "id": "09534d01",
   "metadata": {},
   "outputs": [
    {
     "name": "stdout",
     "output_type": "stream",
     "text": [
      "Enter the number of rows:4\n",
      "*\n",
      "**\n",
      "***\n",
      "****\n",
      "***\n",
      "**\n",
      "*\n"
     ]
    }
   ],
   "source": [
    "n = int(input(\"Enter the number of rows:\"))\n",
    "\n",
    "for n in range(1, n+1):\n",
    "  for column in range(1, n+1):\n",
    "    print(\"*\",end=\"\")\n",
    "  print()\n",
    "\n",
    "for n in range(n-1, 0, -1):\n",
    "  for column in range(1, n+1):\n",
    "    print(\"*\",end=\"\")\n",
    "  print()"
   ]
  },
  {
   "cell_type": "markdown",
   "id": "4e3d3c42",
   "metadata": {},
   "source": [
    "<b>2. Write a program to accept 5 even and 5 odd numbers from the user and display :</b><br>\n",
    "● sum of even numbers<br>\n",
    "● product of odd numbers<br>\n",
    "● absolute difference of the sum and product.<br>\n",
    "Check if the final result (absolute difference) is a prime number or not."
   ]
  },
  {
   "cell_type": "code",
   "execution_count": 4,
   "id": "42eb7634",
   "metadata": {},
   "outputs": [
    {
     "name": "stdout",
     "output_type": "stream",
     "text": [
      "How many numbers you want to add to the list : 10\n",
      "Enter : 2\n",
      "Enter : 4\n",
      "Enter : 6\n",
      "Enter : 8\n",
      "Enter : 10\n",
      "Enter : 1\n",
      "Enter : 3\n",
      "Enter : 5\n",
      "Enter : 7\n",
      "Enter : 9\n",
      "You have entered:  [2, 4, 6, 8, 10, 1, 3, 5, 7, 9]\n",
      "sum of all even numbers:  30\n",
      "Product of all odd numbers:  945\n",
      "Difference of the sum and product: 915\n",
      "915 is not a prime number\n"
     ]
    }
   ],
   "source": [
    "my_list = []\n",
    "\n",
    "#2\n",
    "total = int(input(\"How many numbers you want to add to the list : \"))\n",
    "\n",
    "#3\n",
    "for i in range(0, total):\n",
    "    my_list.append(int(input(\"Enter : \")))\n",
    "\n",
    "print(\"You have entered: \", my_list)\n",
    "\n",
    "#4\n",
    "even_sum = 0\n",
    "odd_product = 1\n",
    "\n",
    "for i in my_list:\n",
    "    if(i % 2 == 0):\n",
    "        even_sum += i\n",
    "    else:\n",
    "        odd_product *= i\n",
    "\n",
    "#6\n",
    "print(\"sum of all even numbers: \", even_sum)\n",
    "print(\"Product of all odd numbers: \", odd_product)\n",
    "\n",
    "num = abs(odd_product - even_sum)\n",
    "print(\"Difference of the sum and product:\", num)\n",
    "\n",
    "if num > 1:\n",
    "\tfor i in range(2, int(num/2)+1):\n",
    "\t\tif (num % i) == 0:\n",
    "\t\t\tprint(num, \"is not a prime number\")\n",
    "\t\t\tbreak\n",
    "\telse:\n",
    "\t\tprint(num, \"is a prime number\")\n",
    "else:\n",
    "\tprint(num, \"is not a prime number\")"
   ]
  },
  {
   "cell_type": "markdown",
   "id": "05c9a23e",
   "metadata": {},
   "source": [
    "<b>3.Create a class named Item that holds data about an item in a retail store. The class should\n",
    "have the following three properties:</b><br>\n",
    "● name: the name property is a String object that holds the name of the item.<br>\n",
    "● price: the price property is a double variable that holds the item's retail price<br>\n",
    "● quantity: the quantity property is an int variable that holds the number of units\n",
    "currently in inventory<br>\n",
    "\n",
    "<b>Write the following four methods to retrieve the values from the three fields and their\n",
    "current inventory value</b><br>\n",
    "● getName( ) returns the item name of type String<br>\n",
    "● getPrice( ) returns the price of the item of type double<br>\n",
    "● getQuantity( ) returns the number of quantities of type int<br>\n",
    "● getValue( ) that returns the current inventory value (quantity * price) of type double"
   ]
  },
  {
   "cell_type": "code",
   "execution_count": 5,
   "id": "16e4b597",
   "metadata": {},
   "outputs": [
    {
     "name": "stdout",
     "output_type": "stream",
     "text": [
      "Name of item:  Jeans\n",
      "Price of item:  350 Rs.\n",
      "Quantity of items:  3 Qty\n",
      "Current inventory value:  1050 Rs.\n"
     ]
    }
   ],
   "source": [
    "class item:\n",
    "  def __init__(self, name:str, price:float, quantity:int):\n",
    "    self.name = name\n",
    "    self.price = price\n",
    "    self.quantity = quantity\n",
    "  def getname(self):\n",
    "    return self.name\n",
    "  def getprice(self):\n",
    "    return self.price\n",
    "  def getquantity(self):\n",
    "    return self.quantity\n",
    "  def getvalue(self):\n",
    "    self.value= self.price* self.quantity\n",
    "    return self.value\n",
    "\n",
    "i = item(\"Jeans\", 350, 3)\n",
    "print(\"Name of item: \", i.getname())\n",
    "print(\"Price of item: \", i.getprice(), \"Rs.\")\n",
    "print(\"Quantity of items: \", i.getquantity(), \"Qty\")\n",
    "print(\"Current inventory value: \", i.getvalue(), \"Rs.\")"
   ]
  },
  {
   "cell_type": "markdown",
   "id": "a16bc5ef",
   "metadata": {},
   "source": [
    "## Major Question 2"
   ]
  },
  {
   "cell_type": "markdown",
   "id": "3f77b825",
   "metadata": {},
   "source": [
    "<b>1. Ask the user number of rows to be generated of a series. Suppose user enters no. of rows =\n",
    "5 then the series shall be :</b>"
   ]
  },
  {
   "cell_type": "code",
   "execution_count": 6,
   "id": "4c86bbc3",
   "metadata": {},
   "outputs": [
    {
     "name": "stdout",
     "output_type": "stream",
     "text": [
      "Enter the number of rows: 5\n",
      "9\n",
      "99\n",
      "999\n",
      "9999\n",
      "99999\n"
     ]
    }
   ],
   "source": [
    "num_rows = int(input(\"Enter the number of rows: \"))\n",
    "for i in range(1, num_rows+1):\n",
    " print(int(\"9\" * i))"
   ]
  },
  {
   "cell_type": "markdown",
   "id": "5c64c495",
   "metadata": {},
   "source": [
    "<b>2. Write a program to accept a number from the user and check whether the number entered is\n",
    "prime or not.</b>"
   ]
  },
  {
   "cell_type": "code",
   "execution_count": 8,
   "id": "f23ea266",
   "metadata": {},
   "outputs": [
    {
     "name": "stdout",
     "output_type": "stream",
     "text": [
      "Enter The Number: 7\n",
      "7 is a prime number\n"
     ]
    }
   ],
   "source": [
    "num = int(input(\"Enter The Number: \"))\n",
    "# If given number is greater than 1\n",
    "if num > 1:\n",
    "\t# Iterate from 2 to n / 2\n",
    "\tfor i in range(2, int(num/2)+1):\n",
    "\t\t# If num is divisible by any number between\n",
    "\t\t# 2 and n / 2, it is not prime\n",
    "\t\tif (num % i) == 0:\n",
    "\t\t\tprint(num, \"is not a prime number\")\n",
    "\t\t\tbreak\n",
    "\telse:\n",
    "\t\tprint(num, \"is a prime number\")\n",
    "else:\n",
    "\tprint(num, \"is not a prime number\")"
   ]
  },
  {
   "cell_type": "markdown",
   "id": "b0ee9f64",
   "metadata": {},
   "source": [
    "### OR Another way"
   ]
  },
  {
   "cell_type": "code",
   "execution_count": 11,
   "id": "814015db",
   "metadata": {},
   "outputs": [
    {
     "name": "stdout",
     "output_type": "stream",
     "text": [
      "Enter The Number: 7\n",
      "(7, 'is a prime number')\n"
     ]
    }
   ],
   "source": [
    "import math\n",
    "\n",
    "n=int(input(\"Enter The Number: \"))\n",
    "\n",
    "def is_prime(n):\n",
    "\tif n < 2:\n",
    "\t\treturn (n, \"is not a prime number\")\n",
    "\ti = 2\n",
    "\twhile i*i <= n:\n",
    "\t\tif n % i == 0:\n",
    "\t\t\treturn (n, \"is not a prime number\")\n",
    "\t\ti += 1\n",
    "\treturn (n, \"is a prime number\")\n",
    "\n",
    "print(is_prime(n))"
   ]
  },
  {
   "cell_type": "markdown",
   "id": "7e9efb44",
   "metadata": {},
   "source": [
    "<b>3. Continued from Major Question 1. Write a separate class called Inventory with methods</b><br>\n",
    "● generate() - creates three Item objects<br>\n",
    "● getDetails() - produces a neatly formatted table of the store's inventory displaying<br>\n",
    "the three items, their current inventory value, and the total inventory value for the\n",
    "store."
   ]
  },
  {
   "cell_type": "code",
   "execution_count": 12,
   "id": "dc0d95e6",
   "metadata": {},
   "outputs": [
    {
     "name": "stdout",
     "output_type": "stream",
     "text": [
      "Name    |  Price     Quantity   Value     \n",
      "========|================================\n",
      "Stapler |  2.25      15         33.75    \n",
      "--------|--------------------------------\n",
      "Paper   |  32.99     255        8412.45  \n",
      "--------|--------------------------------\n",
      "Binder  |  4.75      9          42.75    \n",
      "--------|--------------------------------\n",
      "Total Inventory Value: 8488.95\n"
     ]
    }
   ],
   "source": [
    "# Create a class named Item\n",
    "class Item:\n",
    "  # Create a constructor\n",
    "  def __init__(self, name:str, price:float, quantity:int):\n",
    "    self.name = name\n",
    "    self.price = price\n",
    "    self.quantity = quantity\n",
    "    \n",
    "    # Create a four Methods\n",
    "  def getname(self):\n",
    "    return self.name\n",
    "  def getprice(self):\n",
    "    return self.price\n",
    "  def getquantity(self):\n",
    "    return self.quantity\n",
    "  def getvalue(self):\n",
    "    self.value= self.price* self.quantity\n",
    "    return self.value\n",
    "    \n",
    "# Create a separate class named Inventory\n",
    "class Inventory(Item):\n",
    "  def generate():\n",
    "    inven = []\n",
    "    inven.append(Inventory(\"Stapler |\", 2.25, 15))\n",
    "    inven.append(Inventory(\"Paper   |\", 32.99, 255))\n",
    "    inven.append(Inventory(\"Binder  |\", 4.75, 9))\n",
    "    return inven\n",
    "    \n",
    "  \n",
    "  def getDetails():\n",
    "        items = Inventory.generate()\n",
    "        total_value = 0\n",
    "        print(\"{:<10} {:<9.5} {:<10} {:<10}\".format(\"Name    |\", \"Price\", \"Quantity\", \"Value\"))\n",
    "        print(\"========|================================\")\n",
    "        for i in items:\n",
    "            print(\"{:<10} {:<9.2f} {:<10} {:<9.2f}\".format(i.getname(), i.getprice(), i.getquantity(), i.getvalue()))\n",
    "            print(\"--------|--------------------------------\")\n",
    "            total_value += i.getvalue()\n",
    "        print(\"Total Inventory Value: {:.2f}\".format(total_value))\n",
    "\n",
    "Inventory.getDetails()"
   ]
  },
  {
   "cell_type": "markdown",
   "id": "b3e3d155",
   "metadata": {},
   "source": [
    "<b>Print a Table of the question above in Proper way.</b>"
   ]
  },
  {
   "cell_type": "code",
   "execution_count": 13,
   "id": "b15ef358",
   "metadata": {},
   "outputs": [
    {
     "data": {
      "text/html": [
       "<style type=\"text/css\">\n",
       "#T_0cee8   {\n",
       "  border: 5px solid green;\n",
       "}\n",
       "</style>\n",
       "<table id=\"T_0cee8\">\n",
       "  <thead>\n",
       "    <tr>\n",
       "      <th class=\"blank level0\" >&nbsp;</th>\n",
       "      <th id=\"T_0cee8_level0_col0\" class=\"col_heading level0 col0\" >Name</th>\n",
       "      <th id=\"T_0cee8_level0_col1\" class=\"col_heading level0 col1\" >Price</th>\n",
       "      <th id=\"T_0cee8_level0_col2\" class=\"col_heading level0 col2\" >Quantity</th>\n",
       "      <th id=\"T_0cee8_level0_col3\" class=\"col_heading level0 col3\" >Value</th>\n",
       "    </tr>\n",
       "  </thead>\n",
       "  <tbody>\n",
       "    <tr>\n",
       "      <th id=\"T_0cee8_level0_row0\" class=\"row_heading level0 row0\" >0</th>\n",
       "      <td id=\"T_0cee8_row0_col0\" class=\"data row0 col0\" >Stapler</td>\n",
       "      <td id=\"T_0cee8_row0_col1\" class=\"data row0 col1\" >2.250000</td>\n",
       "      <td id=\"T_0cee8_row0_col2\" class=\"data row0 col2\" >15</td>\n",
       "      <td id=\"T_0cee8_row0_col3\" class=\"data row0 col3\" >33.750000</td>\n",
       "    </tr>\n",
       "    <tr>\n",
       "      <th id=\"T_0cee8_level0_row1\" class=\"row_heading level0 row1\" >1</th>\n",
       "      <td id=\"T_0cee8_row1_col0\" class=\"data row1 col0\" >Paper</td>\n",
       "      <td id=\"T_0cee8_row1_col1\" class=\"data row1 col1\" >32.990000</td>\n",
       "      <td id=\"T_0cee8_row1_col2\" class=\"data row1 col2\" >225</td>\n",
       "      <td id=\"T_0cee8_row1_col3\" class=\"data row1 col3\" >8412.450000</td>\n",
       "    </tr>\n",
       "    <tr>\n",
       "      <th id=\"T_0cee8_level0_row2\" class=\"row_heading level0 row2\" >2</th>\n",
       "      <td id=\"T_0cee8_row2_col0\" class=\"data row2 col0\" >Binder</td>\n",
       "      <td id=\"T_0cee8_row2_col1\" class=\"data row2 col1\" >4.750000</td>\n",
       "      <td id=\"T_0cee8_row2_col2\" class=\"data row2 col2\" >9</td>\n",
       "      <td id=\"T_0cee8_row2_col3\" class=\"data row2 col3\" >42.750000</td>\n",
       "    </tr>\n",
       "    <tr>\n",
       "      <th id=\"T_0cee8_level0_row3\" class=\"row_heading level0 row3\" >3</th>\n",
       "      <td id=\"T_0cee8_row3_col0\" class=\"data row3 col0\" >Total Inventory Value</td>\n",
       "      <td id=\"T_0cee8_row3_col1\" class=\"data row3 col1\" >-</td>\n",
       "      <td id=\"T_0cee8_row3_col2\" class=\"data row3 col2\" >-</td>\n",
       "      <td id=\"T_0cee8_row3_col3\" class=\"data row3 col3\" >8488.950000</td>\n",
       "    </tr>\n",
       "  </tbody>\n",
       "</table>\n"
      ],
      "text/plain": [
       "<pandas.io.formats.style.Styler at 0x8f2fd24100>"
      ]
     },
     "execution_count": 13,
     "metadata": {},
     "output_type": "execute_result"
    }
   ],
   "source": [
    "# import the module\n",
    "import pandas as pd\n",
    "\n",
    "# create a DataFrame\n",
    "df = pd.DataFrame({\"Name\":['Stapler', 'Paper', 'Binder', \"Total Inventory Value\"],\n",
    "\t\t\t\t\t\"Price\":[2.25, 32.99, 4.75, \"-\"],\n",
    "\t\t\t\t\t\"Quantity\":[15, 225, 9, \"-\"],\n",
    "\t\t\t\t\t\"Value\":[33.75, 8412.45, 42.75, 8488.95]})\n",
    "\n",
    "# making a green border\n",
    "df.style.set_table_styles([{'selector' : ' ',\n",
    "\t\t\t\t\t\t\t'props' : [('border',\n",
    "\t\t\t\t\t\t\t\t\t\t'5px solid green')]}])"
   ]
  }
 ],
 "metadata": {
  "kernelspec": {
   "display_name": "Python 3 (ipykernel)",
   "language": "python",
   "name": "python3"
  },
  "language_info": {
   "codemirror_mode": {
    "name": "ipython",
    "version": 3
   },
   "file_extension": ".py",
   "mimetype": "text/x-python",
   "name": "python",
   "nbconvert_exporter": "python",
   "pygments_lexer": "ipython3",
   "version": "3.9.13"
  }
 },
 "nbformat": 4,
 "nbformat_minor": 5
}
